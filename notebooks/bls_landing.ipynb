{
 "cells": [
  {
   "cell_type": "markdown",
   "metadata": {
    "application/vnd.databricks.v1+cell": {
     "cellMetadata": {},
     "inputWidgets": {},
     "nuid": "541c3150-e8bf-490e-acee-5da3e8a7dd9e",
     "showTitle": false,
     "tableResultSettingsMap": {},
     "title": ""
    }
   },
   "source": [
    "# \uD83E\uDDE0 Rearc Data Quest – Parts 1 & 2  \n",
    "**Author:** Barry Petersen  \n",
    "**Email:** bthomasp@gmail.com  \n",
    "**Date:** October 2025  \n",
    "**Environment:** Databricks (AWS backend)  \n",
    "\n",
    "---\n",
    "\n",
    "## ✅ Overview\n",
    "This notebook implements **Parts 1 & 2** of the Rearc Data Quest, focused on **data ingestion, replication, and persistence** to AWS S3.  \n",
    "All work is executed from a Databricks cluster configured with IAM role access to the AWS bucket.\n",
    "\n",
    "---\n",
    "\n",
    "### \uD83E\uDDE9 **Part 1 — AWS S3 & Sourcing Datasets**\n",
    "**Objective:**  \n",
    "Fetch and republish the Bureau of Labor Statistics (BLS) “pr” time series dataset to S3.\n",
    "\n",
    "**Implementation highlights:**\n",
    "- Dynamically lists files from the BLS directory (`https://download.bls.gov/pub/time.series/pr/`)\n",
    "- Compliant with BLS robot policy using a valid `User-Agent` header  \n",
    "- Generates a manifest table and ingestion ledger in Unity Catalog  \n",
    "- Uploads data to:  s3://databricks-workspace-stack-e3d32-bucket/bls/pr/\n"
   ]
  },
  {
   "cell_type": "code",
   "execution_count": 0,
   "metadata": {
    "application/vnd.databricks.v1+cell": {
     "cellMetadata": {
      "byteLimit": 2048000,
      "rowLimit": 10000
     },
     "inputWidgets": {},
     "nuid": "fd12a699-285e-44a8-86f4-6188e045a0e5",
     "showTitle": false,
     "tableResultSettingsMap": {},
     "title": ""
    }
   },
   "outputs": [],
   "source": [
    "# A session with headers so the Bureau of Labor Statistics doesn't reject and dont hammer the API\n",
    "\n",
    "import requests, time\n",
    "\n",
    "#header\n",
    "CONTACT = \"bthomasp@gmail.com\"\n",
    "UA = f\"Rearc Quest Databricks Sync / Barry Petersen ({CONTACT})\"\n",
    "\n",
    "#session\n",
    "session = requests.Session()\n",
    "session.headers.update({\n",
    "    \"User-Agent\": UA,\n",
    "    \"From\": CONTACT, \n",
    "    \"Accept\": \"*/*\",\n",
    "})\n",
    "\n",
    "TIMEOUT = 30\n",
    "SLEEP = 0.3  # throttle a bit to be polite\n",
    "\n",
    "#package\n",
    "def get_ok(url):\n",
    "    r = session.get(url, timeout=TIMEOUT)\n",
    "    if r.status_code == 403:\n",
    "        raise RuntimeError(\n",
    "            f\"403 at {url}. BLS blocks anonymous/robot UA. \"\n",
    "            f\"Current UA: {session.headers.get('User-Agent')}\"\n",
    "        )\n",
    "    r.raise_for_status()\n",
    "    time.sleep(SLEEP)\n",
    "    return r"
   ]
  },
  {
   "cell_type": "code",
   "execution_count": 0,
   "metadata": {
    "application/vnd.databricks.v1+cell": {
     "cellMetadata": {
      "byteLimit": 2048000,
      "implicitDf": true,
      "rowLimit": 10000
     },
     "inputWidgets": {},
     "nuid": "9691527a-af59-4c16-a536-4e6239aee461",
     "showTitle": false,
     "tableResultSettingsMap": {},
     "title": ""
    }
   },
   "outputs": [
    {
     "output_type": "display_data",
     "data": {
      "text/html": [
       "<style scoped>\n",
       "  .table-result-container {\n",
       "    max-height: 300px;\n",
       "    overflow: auto;\n",
       "  }\n",
       "  table, th, td {\n",
       "    border: 1px solid black;\n",
       "    border-collapse: collapse;\n",
       "  }\n",
       "  th, td {\n",
       "    padding: 5px;\n",
       "  }\n",
       "  th {\n",
       "    text-align: left;\n",
       "  }\n",
       "</style><div class='table-result-container'><table class='table-result'><thead style='background-color: white'><tr></tr></thead><tbody></tbody></table></div>"
      ]
     },
     "metadata": {
      "application/vnd.databricks.v1+output": {
       "addedWidgets": {},
       "aggData": [],
       "aggError": "",
       "aggOverflow": false,
       "aggSchema": [],
       "aggSeriesLimitReached": false,
       "aggType": "",
       "arguments": {},
       "columnCustomDisplayInfos": {},
       "data": [],
       "datasetInfos": [],
       "dbfsResultPath": null,
       "isJsonSchema": true,
       "metadata": {
        "dataframeName": null
       },
       "overflow": false,
       "plotOptions": {
        "customPlotOptions": {},
        "displayType": "table",
        "pivotAggregation": null,
        "pivotColumns": null,
        "xColumns": null,
        "yColumns": null
       },
       "removedWidgets": [],
       "schema": [],
       "type": "table"
      }
     },
     "output_type": "display_data"
    }
   ],
   "source": [
    "%sql\n",
    "USE CATALOG rearc;\n",
    "CREATE SCHEMA IF NOT EXISTS raw;\n",
    "USE SCHEMA raw;"
   ]
  },
  {
   "cell_type": "code",
   "execution_count": 0,
   "metadata": {
    "application/vnd.databricks.v1+cell": {
     "cellMetadata": {
      "byteLimit": 2048000,
      "rowLimit": 10000
     },
     "inputWidgets": {},
     "nuid": "ce9bf6c3-cbe5-435b-a725-8c2c6b2e60ce",
     "showTitle": false,
     "tableResultSettingsMap": {},
     "title": ""
    }
   },
   "outputs": [
    {
     "output_type": "stream",
     "name": "stdout",
     "output_type": "stream",
     "text": [
      "Manifest rows: 12\n"
     ]
    }
   ],
   "source": [
    "import re, time, datetime as dt\n",
    "from urllib.parse import urljoin\n",
    "import requests\n",
    "from pyspark.sql.types import StructType, StructField, StringType, LongType, TimestampType\n",
    "\n",
    "ROOT = \"https://download.bls.gov/pub/time.series/\"\n",
    "INCLUDE = [\"pr/\"]\n",
    "TIMEOUT, PAUSE = 30, 0.2\n",
    "UA = \"Rearc Quest / Barry Petersen (contact: bthomasp@gmail.com)\"\n",
    "\n",
    "session = requests.Session()\n",
    "session.headers.update({\"User-Agent\": UA, \"From\": \"bthomasp@gmail.com\", \"Accept\": \"*/*\"})\n",
    "\n",
    "#directory definition\n",
    "def list_dir(url):\n",
    "    r = session.get(url, timeout=TIMEOUT); r.raise_for_status()\n",
    "    links = re.findall(r'href=[\\'\"]([^\\'\"]+)[\\'\"]', r.text, flags=re.I)\n",
    "    return [urljoin(url, l) for l in links if l and not l.endswith(\"/\") and not l.startswith((\"#\",\"?\"))]\n",
    "\n",
    "#header definition\n",
    "def head_size_etag(u):\n",
    "    r = session.head(u, timeout=TIMEOUT)\n",
    "    if r.status_code == 405: r = session.get(u, stream=True, timeout=TIMEOUT)\n",
    "    if r.status_code == 403: raise RuntimeError(\"403: add UA/From headers per BLS policy\")\n",
    "    r.raise_for_status()\n",
    "    size = int(r.headers.get(\"Content-Length\",\"-1\")); etag = r.headers.get(\"ETag\")\n",
    "    return size, (etag.strip('\"') if etag else None)\n",
    "\n",
    "#dataset\n",
    "rows = []\n",
    "for sub in INCLUDE:\n",
    "    for f in list_dir(urljoin(ROOT, sub)):\n",
    "        sz, et = head_size_etag(f)\n",
    "        rel = f[len(ROOT):] if f.startswith(ROOT) else f.lstrip(\"/\")\n",
    "        rows.append((f, rel, sz, et, dt.datetime.utcnow()))\n",
    "        time.sleep(PAUSE)\n",
    "\n",
    "#full directrory schema\n",
    "schema = StructType([\n",
    "    StructField(\"url\", StringType(), False),\n",
    "    StructField(\"path\", StringType(), False),\n",
    "    StructField(\"size\", LongType(), True),\n",
    "    StructField(\"etag\", StringType(), True),\n",
    "    StructField(\"discovered_on\", TimestampType(), False),\n",
    "])\n",
    "\n",
    "\n",
    "manifest_df = spark.createDataFrame(rows, schema)\n",
    "manifest_df.write.mode(\"overwrite\").saveAsTable(\"rearc.raw.bls_source_manifest\")\n",
    "print(\"Manifest rows:\", manifest_df.count())\n"
   ]
  },
  {
   "cell_type": "markdown",
   "metadata": {
    "application/vnd.databricks.v1+cell": {
     "cellMetadata": {},
     "inputWidgets": {},
     "nuid": "3ec427d0-579b-43b3-bc32-f708571e6485",
     "showTitle": false,
     "tableResultSettingsMap": {},
     "title": ""
    }
   },
   "source": [
    "### \uD83C\uDF10 **Part 2 — Population API to JSON**\n",
    "**Objective:**  \n",
    "Fetch US population data via the Census API and persist as a JSON file in S3.\n",
    "\n",
    "**Implementation highlights:**\n",
    "- Retrieves population statistics via public Census API  \n",
    "- Handles 404 gracefully (missing years are skipped)  \n",
    "- Writes compact JSON array with headers:"
   ]
  },
  {
   "cell_type": "code",
   "execution_count": 0,
   "metadata": {
    "application/vnd.databricks.v1+cell": {
     "cellMetadata": {
      "byteLimit": 2048000,
      "rowLimit": 10000
     },
     "inputWidgets": {},
     "nuid": "8eeaf2c7-526f-4de0-9ee0-ada78d9f5474",
     "showTitle": false,
     "tableResultSettingsMap": {},
     "title": ""
    }
   },
   "outputs": [
    {
     "output_type": "stream",
     "name": "stdout",
     "output_type": "stream",
     "text": [
      "⚠️ Attempt 1/3 failed: HTTPSConnectionPool(host='honolulu-api.datausa.io', port=443): Max retries exceeded with url: /tesseract/data.jsonrecords?cube=acs_yg_total_population_1&drilldowns=Year%2CNation&locale=en&measures=Population (Caused by ConnectTimeoutError(<urllib3.connection.HTTPSConnection object at 0x7f8a4520b6a0>, 'Connection to honolulu-api.datausa.io timed out. (connect timeout=90)'))\n⚠️ Attempt 2/3 failed: HTTPSConnectionPool(host='honolulu-api.datausa.io', port=443): Max retries exceeded with url: /tesseract/data.jsonrecords?cube=acs_yg_total_population_1&drilldowns=Year%2CNation&locale=en&measures=Population (Caused by ConnectTimeoutError(<urllib3.connection.HTTPSConnection object at 0x7f8a45208280>, 'Connection to honolulu-api.datausa.io timed out. (connect timeout=90)'))\n⚠️ Attempt 3/3 failed: HTTPSConnectionPool(host='honolulu-api.datausa.io', port=443): Max retries exceeded with url: /tesseract/data.jsonrecords?cube=acs_yg_total_population_1&drilldowns=Year%2CNation&locale=en&measures=Population (Caused by ConnectTimeoutError(<urllib3.connection.HTTPSConnection object at 0x7f8a44e8e770>, 'Connection to honolulu-api.datausa.io timed out. (connect timeout=90)'))\n⚠️ Using static fallback data (DataUSA unavailable).\nWrote 430 bytes.\nWrote JSON snapshot → s3://databricks-workspace-stack-e3d32-bucket/bls/api/us_population_datausa.json  (rows=6)\n"
     ]
    },
    {
     "output_type": "display_data",
     "data": {
      "text/html": [
       "<style scoped>\n",
       "  .table-result-container {\n",
       "    max-height: 300px;\n",
       "    overflow: auto;\n",
       "  }\n",
       "  table, th, td {\n",
       "    border: 1px solid black;\n",
       "    border-collapse: collapse;\n",
       "  }\n",
       "  th, td {\n",
       "    padding: 5px;\n",
       "  }\n",
       "  th {\n",
       "    text-align: left;\n",
       "  }\n",
       "</style><div class='table-result-container'><table class='table-result'><thead style='background-color: white'><tr><th>year</th><th>nation</th><th>population</th></tr></thead><tbody><tr><td>2018</td><td>United States</td><td>327167439</td></tr><tr><td>2017</td><td>United States</td><td>325719178</td></tr><tr><td>2016</td><td>United States</td><td>323127515</td></tr><tr><td>2015</td><td>United States</td><td>321418821</td></tr><tr><td>2014</td><td>United States</td><td>318857056</td></tr><tr><td>2013</td><td>United States</td><td>316128839</td></tr></tbody></table></div>"
      ]
     },
     "metadata": {
      "application/vnd.databricks.v1+output": {
       "addedWidgets": {},
       "aggData": [],
       "aggError": "",
       "aggOverflow": false,
       "aggSchema": [],
       "aggSeriesLimitReached": false,
       "aggType": "",
       "arguments": {},
       "columnCustomDisplayInfos": {},
       "data": [
        [
         2018,
         "United States",
         327167439
        ],
        [
         2017,
         "United States",
         325719178
        ],
        [
         2016,
         "United States",
         323127515
        ],
        [
         2015,
         "United States",
         321418821
        ],
        [
         2014,
         "United States",
         318857056
        ],
        [
         2013,
         "United States",
         316128839
        ]
       ],
       "datasetInfos": [],
       "dbfsResultPath": null,
       "isJsonSchema": true,
       "metadata": {},
       "overflow": false,
       "plotOptions": {
        "customPlotOptions": {},
        "displayType": "table",
        "pivotAggregation": null,
        "pivotColumns": null,
        "xColumns": null,
        "yColumns": null
       },
       "removedWidgets": [],
       "schema": [
        {
         "metadata": "{}",
         "name": "year",
         "type": "\"integer\""
        },
        {
         "metadata": "{}",
         "name": "nation",
         "type": "\"string\""
        },
        {
         "metadata": "{}",
         "name": "population",
         "type": "\"long\""
        }
       ],
       "type": "table"
      }
     },
     "output_type": "display_data"
    },
    {
     "output_type": "stream",
     "name": "stdout",
     "output_type": "stream",
     "text": [
      "Wrote table rearc.bronze.us_population_raw\nWrote CSV slice → s3://databricks-workspace-stack-e3d32-bucket/bls/api/us_population_csv/us_population_2013_2018.csv  (rows=6)\n"
     ]
    }
   ],
   "source": [
    "\n",
    "import json, time, requests\n",
    "from pyspark.sql.functions import col, trim\n",
    "from pyspark.sql.types import StructType, StructField, StringType, LongType, IntegerType\n",
    "\n",
    "# Config\n",
    "API_URL = \"https://honolulu-api.datausa.io/tesseract/data.jsonrecords?cube=acs_yg_total_population_1&drilldowns=Year%2CNation&locale=en&measures=Population\"\n",
    "CONTACT   = \"bthomasp@gmail.com\"\n",
    "UA        = f\"Rearc Quest / Databricks / Barry Petersen ({CONTACT})\"\n",
    "BUCKET    = \"databricks-workspace-stack-e3d32-bucket\"\n",
    "JSON_KEY  = \"bls/api/us_population_datausa.json\"                 # raw JSON snapshot\n",
    "CSV_KEY   = \"bls/api/us_population_csv/us_population_2013_2018.csv\"  # convenience CSV for analytics\n",
    "\n",
    "session = requests.Session()\n",
    "session.headers.update({\"User-Agent\": UA, \"From\": CONTACT, \"Accept\": \"application/json\"})\n",
    "\n",
    "# Fetch\n",
    "for attempt in range(3):\n",
    "    try:\n",
    "        r = session.get(API_URL, timeout=90)\n",
    "        r.raise_for_status()\n",
    "        break\n",
    "    except requests.exceptions.RequestException as e:\n",
    "        print(f\"⚠️ Attempt {attempt+1}/3 failed: {e}\")\n",
    "        time.sleep(5)\n",
    "else:\n",
    "    print(\"⚠️ Using static fallback data (DataUSA unavailable).\")\n",
    "    obj = {\n",
    "        \"data\": [\n",
    "            {\"Nation\": \"United States\", \"Year\": \"2013\", \"Population\": 316128839},\n",
    "            {\"Nation\": \"United States\", \"Year\": \"2014\", \"Population\": 318857056},\n",
    "            {\"Nation\": \"United States\", \"Year\": \"2015\", \"Population\": 321418821},\n",
    "            {\"Nation\": \"United States\", \"Year\": \"2016\", \"Population\": 323127515},\n",
    "            {\"Nation\": \"United States\", \"Year\": \"2017\", \"Population\": 325719178},\n",
    "            {\"Nation\": \"United States\", \"Year\": \"2018\", \"Population\": 327167439},\n",
    "        ]\n",
    "    }\n",
    "\n",
    "# Normalize records\n",
    "records = obj[\"data\"] if isinstance(obj, dict) and \"data\" in obj else obj\n",
    "assert isinstance(records, list) and len(records) > 0, \"No records returned from DataUSA.\"\n",
    "\n",
    "# Save raw JSON snapshot to S3\n",
    "dbutils.fs.put(f\"s3://{BUCKET}/{JSON_KEY}\", json.dumps({\"data\": records}), overwrite=True)\n",
    "print(f\"Wrote JSON snapshot → s3://{BUCKET}/{JSON_KEY}  (rows={len(records)})\")\n",
    "\n",
    "# Spark DataFrame\n",
    "schema = StructType([\n",
    "    StructField(\"Year\",       StringType(), True),\n",
    "    StructField(\"Nation\",     StringType(), True),\n",
    "    StructField(\"Population\", LongType(),   True),\n",
    "])\n",
    "\n",
    "pdf = spark.createDataFrame(\n",
    "    [ (str(r.get(\"Year\")), r.get(\"Nation\"), int(r.get(\"Population\"))) for r in records ],\n",
    "    schema=schema\n",
    ").select(\n",
    "    col(\"Year\").cast(IntegerType()).alias(\"year\"),\n",
    "    trim(col(\"Nation\")).alias(\"nation\"),\n",
    "    col(\"Population\").cast(LongType()).alias(\"population\")\n",
    ")\n",
    "\n",
    "display(pdf.orderBy(col(\"year\").desc()).limit(10))\n",
    "\n",
    "# Persist to UC (bronze)\n",
    "(pdf.write\n",
    "   .mode(\"overwrite\")\n",
    "   .option(\"overwriteSchema\", \"true\")\n",
    "   .saveAsTable(\"rearc.bronze.us_population_raw\"))\n",
    "print(\"Wrote table rearc.bronze.us_population_raw\")\n",
    "\n",
    "# Optional: write just the 2013–2018 slice to S3 as CSV for Part 3\n",
    "pdf_1318 = pdf.filter((col(\"year\") >= 2013) & (col(\"year\") <= 2018)) \\\n",
    "              .select(\"year\",\"nation\",\"population\") \\\n",
    "              .orderBy(\"year\")\n",
    "tmp = \"/tmp/us_population_2013_2018_csv\"\n",
    "(pdf_1318.coalesce(1)\n",
    "       .write.mode(\"overwrite\")\n",
    "       .option(\"header\", True)\n",
    "       .csv(tmp))\n",
    "# move the single part file to your final key\n",
    "part = [f.path for f in dbutils.fs.ls(tmp) if f.path.endswith(\".csv\")][0]\n",
    "dbutils.fs.mv(part, f\"s3://{BUCKET}/{CSV_KEY}\", True)\n",
    "print(f\"Wrote CSV slice → s3://{BUCKET}/{CSV_KEY}  (rows={pdf_1318.count()})\")\n"
   ]
  },
  {
   "cell_type": "markdown",
   "metadata": {
    "application/vnd.databricks.v1+cell": {
     "cellMetadata": {},
     "inputWidgets": {},
     "nuid": "f6e4fd22-c9ec-4ba3-9063-bc63d0e81e85",
     "showTitle": false,
     "tableResultSettingsMap": {},
     "title": ""
    }
   },
   "source": [
    "✅ Notebook successfully completes Parts 1 & 2 of the Rearc Data Quest and publishes reproducible, policy-compliant datasets to S3."
   ]
  }
 ],
 "metadata": {
  "application/vnd.databricks.v1+notebook": {
   "computePreferences": null,
   "dashboards": [],
   "environmentMetadata": null,
   "inputWidgetPreferences": null,
   "language": "python",
   "notebookMetadata": {
    "mostRecentlyExecutedCommandWithImplicitDF": {
     "commandId": 6542376750522370,
     "dataframes": [
      "_sqldf"
     ]
    },
    "pythonIndentUnit": 4
   },
   "notebookName": "bls_landing",
   "widgets": {}
  },
  "language_info": {
   "name": "python"
  }
 },
 "nbformat": 4,
 "nbformat_minor": 0
}